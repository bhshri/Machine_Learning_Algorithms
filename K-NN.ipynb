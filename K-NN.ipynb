{
 "cells": [
  {
   "cell_type": "code",
   "execution_count": 139,
   "metadata": {
    "colab": {
     "base_uri": "https://localhost:8080/",
     "height": 35
    },
    "colab_type": "code",
    "id": "nGLWK0n9TDat",
    "outputId": "f942c435-bee1-4d95-f6bf-3cd3e12e2176"
   },
   "outputs": [
    {
     "data": {
      "text/plain": [
       "((150, 4), (150,))"
      ]
     },
     "execution_count": 139,
     "metadata": {
      "tags": []
     },
     "output_type": "execute_result"
    }
   ],
   "source": [
    "from sklearn.datasets import load_iris\n",
    "X,y = load_iris(return_X_y=True)\n",
    "X.shape,y.shape"
   ]
  },
  {
   "cell_type": "code",
   "execution_count": 162,
   "metadata": {
    "colab": {
     "base_uri": "https://localhost:8080/",
     "height": 35
    },
    "colab_type": "code",
    "id": "WMTntXAffnO8",
    "outputId": "a1423f9c-ce53-4e6b-c317-26195a1d7d28"
   },
   "outputs": [
    {
     "data": {
      "text/plain": [
       "((120, 4), (30, 4), (120,), (30,))"
      ]
     },
     "execution_count": 162,
     "metadata": {
      "tags": []
     },
     "output_type": "execute_result"
    }
   ],
   "source": [
    "from sklearn.model_selection import train_test_split\n",
    "X_train, X_test, y_train, y_test = train_test_split(X, y,stratify=y, test_size=0.2)\n",
    "X_train.shape, X_test.shape, y_train.shape, y_test.shape"
   ]
  },
  {
   "cell_type": "markdown",
   "metadata": {
    "colab_type": "text",
    "id": "kJ2JaQaKr2Yh"
   },
   "source": [
    "# **KNN IMPLEMENTATION**"
   ]
  },
  {
   "cell_type": "code",
   "execution_count": 0,
   "metadata": {
    "colab": {},
    "colab_type": "code",
    "id": "2s85Xbs9gDK3"
   },
   "outputs": [],
   "source": [
    "import numpy as np\n",
    "def performKNN(k,X_train,y_train,X_test):\n",
    "  y_pred = []\n",
    "  for test_point in X_test:\n",
    "\n",
    "    #Calculating the closest k training points to the test point\n",
    "    distances = []\n",
    "    for train_point in X_train:\n",
    "      distances.append(sum((train_point - test_point)**2))\n",
    "    closest_point_indices = np.argsort(distances)\n",
    "    top_k_indices = closest_point_indices[0:k]\n",
    "    top_k_points_labels = [y_train[i] for i in top_k_indices]\n",
    "\n",
    "    #Peforming majority vote to determine the class label\n",
    "    class_labels = np.unique(y_train)\n",
    "    class_label_votes = []\n",
    "    for class_label in class_labels:\n",
    "       class_label_votes.append(top_k_points_labels.count(class_label))\n",
    "    test_point_class_label = class_labels[np.argmax(class_label_votes)]\n",
    "\n",
    "    y_pred.append(test_point_class_label)\n",
    "    \n",
    "\n",
    "  return y_pred"
   ]
  },
  {
   "cell_type": "code",
   "execution_count": 0,
   "metadata": {
    "colab": {},
    "colab_type": "code",
    "id": "bsxABwD_ikUl"
   },
   "outputs": [],
   "source": [
    "y_pred = performKNN(3,X_train,y_train,X_test)"
   ]
  },
  {
   "cell_type": "code",
   "execution_count": 164,
   "metadata": {
    "colab": {
     "base_uri": "https://localhost:8080/",
     "height": 35
    },
    "colab_type": "code",
    "id": "rG3ccEWTldRa",
    "outputId": "d75bb75c-7734-4f10-c272-43a3054cb464"
   },
   "outputs": [
    {
     "data": {
      "text/plain": [
       "0.9666666666666667"
      ]
     },
     "execution_count": 164,
     "metadata": {
      "tags": []
     },
     "output_type": "execute_result"
    }
   ],
   "source": [
    "from sklearn.metrics import accuracy_score\n",
    "accuracy_score(y_test,y_pred)"
   ]
  },
  {
   "cell_type": "markdown",
   "metadata": {
    "colab_type": "text",
    "id": "160UrLY9sAT3"
   },
   "source": [
    "# **KNN SKLEARN**"
   ]
  },
  {
   "cell_type": "code",
   "execution_count": 165,
   "metadata": {
    "colab": {
     "base_uri": "https://localhost:8080/",
     "height": 70
    },
    "colab_type": "code",
    "id": "_yFCNnoKpzwO",
    "outputId": "11118e3e-ab57-4d46-c884-b8b81fd9f77d"
   },
   "outputs": [
    {
     "data": {
      "text/plain": [
       "KNeighborsClassifier(algorithm='auto', leaf_size=30, metric='minkowski',\n",
       "                     metric_params=None, n_jobs=None, n_neighbors=3, p=2,\n",
       "                     weights='uniform')"
      ]
     },
     "execution_count": 165,
     "metadata": {
      "tags": []
     },
     "output_type": "execute_result"
    }
   ],
   "source": [
    "from sklearn.neighbors import KNeighborsClassifier\n",
    "neigh = KNeighborsClassifier(n_neighbors=3)\n",
    "neigh.fit(X_train, y_train)"
   ]
  },
  {
   "cell_type": "code",
   "execution_count": 0,
   "metadata": {
    "colab": {},
    "colab_type": "code",
    "id": "AA3M6TIKqjMb"
   },
   "outputs": [],
   "source": [
    "y_pred_knn = neigh.predict(X_test)"
   ]
  },
  {
   "cell_type": "code",
   "execution_count": 167,
   "metadata": {
    "colab": {
     "base_uri": "https://localhost:8080/",
     "height": 35
    },
    "colab_type": "code",
    "id": "-0oWflrwqpmk",
    "outputId": "1537f1f5-e930-44b0-9861-bc6e1b5283ad"
   },
   "outputs": [
    {
     "data": {
      "text/plain": [
       "0.9666666666666667"
      ]
     },
     "execution_count": 167,
     "metadata": {
      "tags": []
     },
     "output_type": "execute_result"
    }
   ],
   "source": [
    "from sklearn.metrics import accuracy_score\n",
    "accuracy_score(y_test,y_pred_knn)"
   ]
  }
 ],
 "metadata": {
  "colab": {
   "name": "Assignment_8_201911003_PRML.ipynb",
   "provenance": []
  },
  "kernelspec": {
   "display_name": "Python 3",
   "language": "python",
   "name": "python3"
  },
  "language_info": {
   "codemirror_mode": {
    "name": "ipython",
    "version": 3
   },
   "file_extension": ".py",
   "mimetype": "text/x-python",
   "name": "python",
   "nbconvert_exporter": "python",
   "pygments_lexer": "ipython3",
   "version": "3.7.3"
  }
 },
 "nbformat": 4,
 "nbformat_minor": 1
}
