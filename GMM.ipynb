{
 "cells": [
  {
   "cell_type": "code",
   "execution_count": 2,
   "metadata": {
    "colab": {
     "base_uri": "https://localhost:8080/",
     "height": 35
    },
    "colab_type": "code",
    "id": "rrq6Z8TibFza",
    "outputId": "76c8eb17-223f-4f21-e2e6-344b9c01d822"
   },
   "outputs": [
    {
     "data": {
      "text/plain": [
       "((150, 4), (150,))"
      ]
     },
     "execution_count": 2,
     "metadata": {
      "tags": []
     },
     "output_type": "execute_result"
    }
   ],
   "source": [
    "from sklearn.datasets import load_iris\n",
    "X,y = load_iris(return_X_y=True)\n",
    "X.shape,y.shape"
   ]
  },
  {
   "cell_type": "markdown",
   "metadata": {
    "colab_type": "text",
    "id": "Ewrfp7km4TAC"
   },
   "source": [
    "# **GMM IMPLEMENTATION**"
   ]
  },
  {
   "cell_type": "markdown",
   "metadata": {
    "colab_type": "text",
    "id": "RjUO0gqqZYGl"
   },
   "source": [
    "### **E-STEP**"
   ]
  },
  {
   "cell_type": "code",
   "execution_count": 0,
   "metadata": {
    "colab": {},
    "colab_type": "code",
    "id": "fGF_ZxzC6oE8"
   },
   "outputs": [],
   "source": [
    "#Computing Gamma Values\n",
    "from scipy.stats import multivariate_normal as mvn\n",
    "\n",
    "def getGammaValues(X,num_of_clusters,mixing_coefficients,mean_vectors,covariance_matrices):\n",
    "    gamma_values = []\n",
    "    for i in range(num_of_clusters):\n",
    "      gamma_values.append(mixing_coefficients[i] * mvn.pdf(X, mean_vectors[i],covariance_matrices[i]))\n",
    "    gamma_norm = np.sum(gamma_values, axis=0)[:,np.newaxis]\n",
    "    gamma_values /= gamma_norm.T\n",
    "    return gamma_values"
   ]
  },
  {
   "cell_type": "markdown",
   "metadata": {
    "colab_type": "text",
    "id": "ycyCz3SKZf4g"
   },
   "source": [
    "### **M-STEP**"
   ]
  },
  {
   "cell_type": "code",
   "execution_count": 0,
   "metadata": {
    "colab": {},
    "colab_type": "code",
    "id": "FkL2dvZgZjHu"
   },
   "outputs": [],
   "source": [
    "#Computing mixing_coefficient,mean_vectors and covariance_matrices\n",
    "def computeMixCoeffMeanVecAndCov(X,gamma_values,num_of_clusters):\n",
    "    mixing_coefficients = np.mean(gamma_values, axis = 1)\n",
    "    print(\"Mixing Coeffiients: \\n\",mixing_coefficients)\n",
    "    mean_vectors = np.dot(gamma_values, X) \n",
    "    mean_vectors /= np.sum(gamma_values.T, axis = 0)[:,np.newaxis]\n",
    "    print(\"Mean Vectors: \\n\",mean_vectors)\n",
    "    covariance_matrices = []\n",
    "    for i in range(num_of_clusters):\n",
    "            x = X - mean_vectors[i] # (N x d)\n",
    "            gamma_diag = np.diag(gamma_values[i])\n",
    "            x_mu = np.matrix(x)\n",
    "            gamma_diag = np.matrix(gamma_diag)\n",
    "            sigma_c = x.T * gamma_diag * x\n",
    "            covariance_matrices.append((sigma_c) / np.sum(gamma_values.T, axis = 0)[:,np.newaxis][i])\n",
    "    # print(\"Covariance Matrices: \\n\",covariance_matrices)\n",
    "    return mixing_coefficients,mean_vectors,covariance_matrices\n"
   ]
  },
  {
   "cell_type": "markdown",
   "metadata": {
    "colab_type": "text",
    "id": "lsNG-dwIZr-d"
   },
   "source": [
    "### **INITIALISATION**"
   ]
  },
  {
   "cell_type": "code",
   "execution_count": 0,
   "metadata": {
    "colab": {},
    "colab_type": "code",
    "id": "smPfYs9fshMi"
   },
   "outputs": [],
   "source": [
    "import numpy as np\n",
    "\n",
    "#Initial mean vectors of the clusters\n",
    "mean_vectors = []\n",
    "random_indices = np.random.randint(0,len(X),3)\n",
    "for index in random_indices:\n",
    "  mean_vectors.append(X[index])"
   ]
  },
  {
   "cell_type": "code",
   "execution_count": 58,
   "metadata": {
    "colab": {
     "base_uri": "https://localhost:8080/",
     "height": 70
    },
    "colab_type": "code",
    "id": "IaGhcT444vOT",
    "outputId": "2b4f850d-6633-4437-8d03-6268c2218c5e"
   },
   "outputs": [
    {
     "data": {
      "text/plain": [
       "[array([4.4, 3. , 1.3, 0.2]),\n",
       " array([6.8, 2.8, 4.8, 1.4]),\n",
       " array([7.3, 2.9, 6.3, 1.8])]"
      ]
     },
     "execution_count": 58,
     "metadata": {
      "tags": []
     },
     "output_type": "execute_result"
    }
   ],
   "source": [
    "mean_vectors"
   ]
  },
  {
   "cell_type": "code",
   "execution_count": 0,
   "metadata": {
    "colab": {},
    "colab_type": "code",
    "id": "GNQ_Am4K4xBC"
   },
   "outputs": [],
   "source": [
    "#Initial covariance matrices with variance = 1\n",
    "covariance_matrices = []\n",
    "for i in range(3):\n",
    "  covariance_matrices.append(np.identity(4))"
   ]
  },
  {
   "cell_type": "code",
   "execution_count": 60,
   "metadata": {
    "colab": {
     "base_uri": "https://localhost:8080/",
     "height": 195
    },
    "colab_type": "code",
    "id": "DdI8p2Jm5sCd",
    "outputId": "0818dac8-c00d-49bd-91f9-ef91e79a715c"
   },
   "outputs": [
    {
     "data": {
      "text/plain": [
       "[array([[1., 0., 0., 0.],\n",
       "        [0., 1., 0., 0.],\n",
       "        [0., 0., 1., 0.],\n",
       "        [0., 0., 0., 1.]]), array([[1., 0., 0., 0.],\n",
       "        [0., 1., 0., 0.],\n",
       "        [0., 0., 1., 0.],\n",
       "        [0., 0., 0., 1.]]), array([[1., 0., 0., 0.],\n",
       "        [0., 1., 0., 0.],\n",
       "        [0., 0., 1., 0.],\n",
       "        [0., 0., 0., 1.]])]"
      ]
     },
     "execution_count": 60,
     "metadata": {
      "tags": []
     },
     "output_type": "execute_result"
    }
   ],
   "source": [
    "covariance_matrices"
   ]
  },
  {
   "cell_type": "code",
   "execution_count": 0,
   "metadata": {
    "colab": {},
    "colab_type": "code",
    "id": "fgJEc3Kp5tao"
   },
   "outputs": [],
   "source": [
    "mixing_coefficients = [1/3,1/3,1/3]"
   ]
  },
  {
   "cell_type": "code",
   "execution_count": 0,
   "metadata": {
    "colab": {},
    "colab_type": "code",
    "id": "uJCiBZKMaT0y"
   },
   "outputs": [],
   "source": [
    "num_of_clusters = 3"
   ]
  },
  {
   "cell_type": "markdown",
   "metadata": {
    "colab_type": "text",
    "id": "qY9NNt-LrYpE"
   },
   "source": [
    "### **EM ALGORITHM** "
   ]
  },
  {
   "cell_type": "code",
   "execution_count": 63,
   "metadata": {
    "colab": {
     "base_uri": "https://localhost:8080/",
     "height": 7128
    },
    "colab_type": "code",
    "id": "fDXw99P2kvyP",
    "outputId": "da0c4e9b-527c-495b-dd1f-33c7c9f08cf9",
    "scrolled": false
   },
   "outputs": [
    {
     "name": "stdout",
     "output_type": "stream",
     "text": [
      "Iteration:  1\n",
      "Mixing Coeffiients: \n",
      " [0.35193383 0.45579879 0.19226738]\n",
      "Mean Vectors: \n",
      " [[5.01211302 3.37273871 1.56358273 0.28972894]\n",
      " [6.09652247 2.82729661 4.67125598 1.57338552]\n",
      " [6.7646089  3.02533955 5.60973735 1.97756215]]\n",
      "****************************************************************************************************\n",
      "Iteration:  2\n",
      "Mixing Coeffiients: \n",
      " [0.3342682  0.47511341 0.19061838]\n",
      "Mean Vectors: \n",
      " [[5.0061404  3.42522586 1.46660854 0.24829659]\n",
      " [6.04653782 2.81356012 4.59704926 1.54679106]\n",
      " [6.80494992 3.01979841 5.68486421 2.00103729]]\n",
      "****************************************************************************************************\n",
      "Iteration:  3\n",
      "Mixing Coeffiients: \n",
      " [0.33333329 0.47522227 0.19144444]\n",
      "Mean Vectors: \n",
      " [[5.00600006 3.42800013 1.46200002 0.24599999]\n",
      " [6.03551263 2.81699266 4.57311824 1.53643819]\n",
      " [6.82420892 3.00854452 5.73231119 2.02243379]]\n",
      "****************************************************************************************************\n",
      "Iteration:  4\n",
      "Mixing Coeffiients: \n",
      " [0.33333332 0.47029772 0.19636896]\n",
      "Mean Vectors: \n",
      " [[5.00600002 3.42800004 1.462      0.246     ]\n",
      " [6.0259184  2.81752327 4.55444926 1.52455319]\n",
      " [6.82740821 3.00247009 5.7479532  2.03871046]]\n",
      "****************************************************************************************************\n",
      "Iteration:  5\n",
      "Mixing Coeffiients: \n",
      " [0.33333333 0.46339962 0.20326706]\n",
      "Mean Vectors: \n",
      " [[5.00600001 3.42800002 1.462      0.246     ]\n",
      " [6.01704205 2.81516967 4.53687235 1.51210282]\n",
      " [6.82044471 3.00155937 5.74752147 2.04964581]]\n",
      "****************************************************************************************************\n",
      "Iteration:  6\n",
      "Mixing Coeffiients: \n",
      " [0.33333333 0.45620293 0.21046374]\n",
      "Mean Vectors: \n",
      " [[5.00600001 3.42800002 1.462      0.246     ]\n",
      " [6.00941695 2.8115909  4.52054902 1.5001393 ]\n",
      " [6.80950104 3.00294324 5.74150661 2.05719705]]\n",
      "****************************************************************************************************\n",
      "Iteration:  7\n",
      "Mixing Coeffiients: \n",
      " [0.33333333 0.44903081 0.21763586]\n",
      "Mean Vectors: \n",
      " [[5.00600001 3.42800002 1.462      0.246     ]\n",
      " [6.00252322 2.80756686 4.50477597 1.48856655]\n",
      " [6.79735782 3.00493978 5.73381365 2.06271654]]\n",
      "****************************************************************************************************\n",
      "Iteration:  8\n",
      "Mixing Coeffiients: \n",
      " [0.33333333 0.44186567 0.224801  ]\n",
      "Mean Vectors: \n",
      " [[5.00600001 3.42800002 1.462      0.246     ]\n",
      " [5.99606279 2.80343625 4.48900455 1.47711422]\n",
      " [6.78472237 3.00676793 5.72564026 2.06692705]]\n",
      "****************************************************************************************************\n",
      "Iteration:  9\n",
      "Mixing Coeffiients: \n",
      " [0.33333333 0.43457084 0.23209584]\n",
      "Mean Vectors: \n",
      " [[5.00600001 3.42800002 1.462      0.246     ]\n",
      " [5.98987087 2.7993266  4.47272645 1.46545097]\n",
      " [6.7715282  3.00807197 5.71725121 2.07022706]]\n",
      "****************************************************************************************************\n",
      "Iteration:  10\n",
      "Mixing Coeffiients: \n",
      " [0.33333333 0.42685502 0.23981166]\n",
      "Mean Vectors: \n",
      " [[5.00600001 3.42800002 1.462      0.246     ]\n",
      " [5.98373814 2.79518181 4.45513084 1.45301941]\n",
      " [6.75729477 3.00873325 5.70852871 2.07289637]]\n",
      "****************************************************************************************************\n",
      "Iteration:  11\n",
      "Mixing Coeffiients: \n",
      " [0.33333333 0.4182648  0.24840187]\n",
      "Mean Vectors: \n",
      " [[5.00600001 3.42800002 1.462      0.246     ]\n",
      " [5.9773803  2.79084277 4.4350866  1.4390327 ]\n",
      " [6.74124919 3.00865441 5.69893477 2.07501098]]\n",
      "****************************************************************************************************\n",
      "Iteration:  12\n",
      "Mixing Coeffiients: \n",
      " [0.33333333 0.40846974 0.25819693]\n",
      "Mean Vectors: \n",
      " [[5.00600001 3.42800002 1.462      0.246     ]\n",
      " [5.97073826 2.78651277 4.41230741 1.42327771]\n",
      " [6.72277852 3.00724152 5.68702582 2.0758088 ]]\n",
      "****************************************************************************************************\n",
      "Iteration:  13\n",
      "Mixing Coeffiients: \n",
      " [0.33333333 0.39768743 0.26897924]\n",
      "Mean Vectors: \n",
      " [[5.00600001 3.42800001 1.462      0.246     ]\n",
      " [5.96447698 2.78314238 4.38875806 1.40711114]\n",
      " [6.70188957 3.00337652 5.6707453  2.07355379]]\n",
      "****************************************************************************************************\n",
      "Iteration:  14\n",
      "Mixing Coeffiients: \n",
      " [0.33333333 0.38640922 0.28025745]\n",
      "Mean Vectors: \n",
      " [[5.006      3.42800001 1.462      0.246     ]\n",
      " [5.95959352 2.78122044 4.36622609 1.39183326]\n",
      " [6.6789475  2.99716369 5.65022144 2.0677992 ]]\n",
      "****************************************************************************************************\n",
      "Iteration:  15\n",
      "Mixing Coeffiients: \n",
      " [0.33333333 0.37503467 0.291632  ]\n",
      "Mean Vectors: \n",
      " [[5.006      3.428      1.462      0.246     ]\n",
      " [5.95659581 2.78032672 4.34494667 1.3776592 ]\n",
      " [6.6547455  2.98989055 5.62750671 2.05966209]]\n",
      "****************************************************************************************************\n",
      "Iteration:  16\n",
      "Mixing Coeffiients: \n",
      " [0.33333333 0.36381772 0.30284895]\n",
      "Mean Vectors: \n",
      " [[5.006      3.428      1.462      0.246     ]\n",
      " [5.95476123 2.77974365 4.32453262 1.36439379]\n",
      " [6.63109129 2.98282916 5.60452689 2.05033796]]\n",
      "****************************************************************************************************\n",
      "Iteration:  17\n",
      "Mixing Coeffiients: \n",
      " [0.33333333 0.35312583 0.31354084]\n",
      "Mean Vectors: \n",
      " [[5.006      3.428      1.462      0.246     ]\n",
      " [5.95211063 2.77856478 4.3045751  1.3519319 ]\n",
      " [6.61101335 2.97723155 5.58335566 2.04098216]]\n",
      "****************************************************************************************************\n",
      "Iteration:  18\n",
      "Mixing Coeffiients: \n",
      " [0.33333333 0.34322399 0.32344267]\n",
      "Mean Vectors: \n",
      " [[5.006      3.428      1.462      0.246     ]\n",
      " [5.94800267 2.77649423 4.28532579 1.3403239 ]\n",
      " [6.59520099 2.97334678 5.56463381 2.0322056 ]]\n",
      "****************************************************************************************************\n",
      "Iteration:  19\n",
      "Mixing Coeffiients: \n",
      " [0.33333333 0.33429252 0.33237415]\n",
      "Mean Vectors: \n",
      " [[5.006      3.428      1.462      0.246     ]\n",
      " [5.94355219 2.77412848 4.26769957 1.32987385]\n",
      " [6.58228581 2.97043641 5.54798453 2.0241239 ]]\n",
      "****************************************************************************************************\n",
      "Iteration:  20\n",
      "Mixing Coeffiients: \n",
      " [0.33333333 0.32656276 0.34010391]\n",
      "Mean Vectors: \n",
      " [[5.006      3.428      1.462      0.246     ]\n",
      " [5.93942961 2.77233091 4.2525871  1.32111334]\n",
      " [6.57172734 2.9677008  5.53339744 2.01675695]]\n",
      "****************************************************************************************************\n",
      "Iteration:  21\n",
      "Mixing Coeffiients: \n",
      " [0.33333333 0.32006349 0.34660318]\n",
      "Mean Vectors: \n",
      " [[5.006      3.428      1.462      0.246     ]\n",
      " [5.93551849 2.77201203 4.24034714 1.31436526]\n",
      " [6.56348255 2.96433181 5.52068326 2.00994406]]\n",
      "****************************************************************************************************\n",
      "Iteration:  22\n",
      "Mixing Coeffiients: \n",
      " [0.33333333 0.3143775  0.35228917]\n",
      "Mean Vectors: \n",
      " [[5.006      3.428      1.462      0.246     ]\n",
      " [5.93131473 2.77369524 4.23030066 1.30923633]\n",
      " [6.5570985  2.95972567 5.50898381 2.00329432]]\n",
      "****************************************************************************************************\n",
      "Iteration:  23\n",
      "Mixing Coeffiients: \n",
      " [0.33333333 0.30928139 0.35738528]\n",
      "Mean Vectors: \n",
      " [[5.006      3.428      1.462      0.246     ]\n",
      " [5.92661528 2.77644515 4.22141514 1.30507425]\n",
      " [6.55224209 2.95469321 5.49844005 1.99699932]]\n",
      "****************************************************************************************************\n",
      "Iteration:  24\n",
      "Mixing Coeffiients: \n",
      " [0.33333333 0.30539275 0.36127391]\n",
      "Mean Vectors: \n",
      " [[5.006      3.428      1.462      0.246     ]\n",
      " [5.92220476 2.77794152 4.21390399 1.30188224]\n",
      " [6.54923636 2.95150969 5.49104392 1.99224994]]\n",
      "****************************************************************************************************\n",
      "Iteration:  25\n",
      "Mixing Coeffiients: \n",
      " [0.33333333 0.30284377 0.3638229 ]\n",
      "Mean Vectors: \n",
      " [[5.006      3.428      1.462      0.246     ]\n",
      " [5.91898954 2.77815234 4.20861248 1.29975466]\n",
      " [6.54751963 2.95011817 5.48650074 1.98918412]]\n",
      "****************************************************************************************************\n",
      "Iteration:  26\n",
      "Mixing Coeffiients: \n",
      " [0.33333333 0.30129665 0.36537001]\n",
      "Mean Vectors: \n",
      " [[5.006      3.428      1.462      0.246     ]\n",
      " [5.91710272 2.77805091 4.20545469 1.29850216]\n",
      " [6.54641414 2.94947364 5.48369371 1.98729767]]\n",
      "****************************************************************************************************\n",
      "Iteration:  27\n",
      "Mixing Coeffiients: \n",
      " [0.33333333 0.30039395 0.36627272]\n",
      "Mean Vectors: \n",
      " [[5.006      3.428      1.462      0.246     ]\n",
      " [5.91609892 2.77795672 4.20370131 1.29780924]\n",
      " [6.54568641 2.94912841 5.48198141 1.98616837]]\n",
      "****************************************************************************************************\n",
      "Iteration:  28\n",
      "Mixing Coeffiients: \n",
      " [0.33333333 0.29987583 0.36679084]\n",
      "Mean Vectors: \n",
      " [[5.006      3.428      1.462      0.246     ]\n",
      " [5.91557537 2.77790291 4.20274275 1.29743174]\n",
      " [6.5452251  2.94893061 5.48095942 1.98550465]]\n",
      "****************************************************************************************************\n",
      "Iteration:  29\n",
      "Mixing Coeffiients: \n",
      " [0.33333333 0.29958048 0.36708618]\n",
      "Mean Vectors: \n",
      " [[5.006      3.428      1.462      0.246     ]\n",
      " [5.91529943 2.77787498 4.20221638 1.29722528]\n",
      " [6.54494371 2.9488158  5.48036059 1.98511955]]\n",
      "****************************************************************************************************\n",
      "Iteration:  30\n",
      "Mixing Coeffiients: \n",
      " [0.33333333 0.29941267 0.367254  ]\n",
      "Mean Vectors: \n",
      " [[5.006      3.428      1.462      0.246     ]\n",
      " [5.9151514  2.77786056 4.20192487 1.29711137]\n",
      " [6.54477668 2.94874944 5.48001422 1.98489808]]\n",
      "****************************************************************************************************\n",
      "Iteration:  31\n",
      "Mixing Coeffiients: \n",
      " [0.33333333 0.29931748 0.36734918]\n",
      "Mean Vectors: \n",
      " [[5.006      3.428      1.462      0.246     ]\n",
      " [5.91507069 2.77785295 4.20176225 1.29704802]\n",
      " [6.54467929 2.94871137 5.47981554 1.98477149]]\n",
      "****************************************************************************************************\n",
      "Iteration:  32\n",
      "Mixing Coeffiients: \n",
      " [0.33333333 0.29926354 0.36740312]\n",
      "Mean Vectors: \n",
      " [[5.006      3.428      1.462      0.246     ]\n",
      " [5.91502615 2.77784883 4.20167105 1.29701256]\n",
      " [6.54462314 2.94868964 5.4797022  1.9846994 ]]\n",
      "****************************************************************************************************\n",
      "Iteration:  33\n",
      "Mixing Coeffiients: \n",
      " [0.33333333 0.299233   0.36743367]\n",
      "Mean Vectors: \n",
      " [[5.006      3.428      1.462      0.246     ]\n",
      " [5.91500136 2.77784656 4.20161973 1.29699264]\n",
      " [6.54459099 2.94867729 5.47963775 1.98465846]]\n",
      "****************************************************************************************************\n",
      "Iteration:  34\n",
      "Mixing Coeffiients: \n",
      " [0.33333333 0.29921571 0.36745096]\n",
      "Mean Vectors: \n",
      " [[5.006      3.428      1.462      0.246     ]\n",
      " [5.91498747 2.77784529 4.20159079 1.29698141]\n",
      " [6.54457268 2.94867028 5.47960118 1.98463525]]\n",
      "****************************************************************************************************\n",
      "Iteration:  35\n",
      "Mixing Coeffiients: \n",
      " [0.33333333 0.29920593 0.36746074]\n",
      "Mean Vectors: \n",
      " [[5.006      3.428      1.462      0.246     ]\n",
      " [5.91497968 2.77784457 4.20157446 1.29697508]\n",
      " [6.54456226 2.94866632 5.47958046 1.9846221 ]]\n",
      "****************************************************************************************************\n",
      "Iteration:  36\n",
      "Mixing Coeffiients: \n",
      " [0.33333333 0.29920039 0.36746627]\n",
      "Mean Vectors: \n",
      " [[5.006      3.428      1.462      0.246     ]\n",
      " [5.91497528 2.77784417 4.20156523 1.2969715 ]\n",
      " [6.54455636 2.94866407 5.47956872 1.98461465]]\n",
      "****************************************************************************************************\n",
      "Iteration:  37\n",
      "Mixing Coeffiients: \n",
      " [0.33333333 0.29919726 0.3674694 ]\n",
      "Mean Vectors: \n",
      " [[5.006      3.428      1.462      0.246     ]\n",
      " [5.9149728  2.77784394 4.20156001 1.29696948]\n",
      " [6.54455301 2.9486628  5.47956208 1.98461044]]\n",
      "****************************************************************************************************\n",
      "Iteration:  38\n",
      "Mixing Coeffiients: \n",
      " [0.33333333 0.29919549 0.36747117]\n",
      "Mean Vectors: \n",
      " [[5.006      3.428      1.462      0.246     ]\n",
      " [5.91497141 2.77784381 4.20155706 1.29696834]\n",
      " [6.54455112 2.94866208 5.47955833 1.98460806]]\n",
      "****************************************************************************************************\n",
      "Iteration:  39\n",
      "Mixing Coeffiients: \n",
      " [0.33333333 0.29919449 0.36747218]\n",
      "Mean Vectors: \n",
      " [[5.006      3.428      1.462      0.246     ]\n",
      " [5.91497062 2.77784374 4.2015554  1.29696769]\n",
      " [6.54455005 2.94866168 5.4795562  1.98460671]]\n",
      "****************************************************************************************************\n",
      "Iteration:  40\n",
      "Mixing Coeffiients: \n",
      " [0.33333333 0.29919392 0.36747274]\n",
      "Mean Vectors: \n",
      " [[5.006      3.428      1.462      0.246     ]\n",
      " [5.91497017 2.7778437  4.20155445 1.29696733]\n",
      " [6.54454944 2.94866145 5.479555   1.98460595]]\n",
      "****************************************************************************************************\n",
      "Iteration:  41\n",
      "Mixing Coeffiients: \n",
      " [0.33333333 0.2991936  0.36747306]\n",
      "Mean Vectors: \n",
      " [[5.006      3.428      1.462      0.246     ]\n",
      " [5.91496992 2.77784368 4.20155392 1.29696712]\n",
      " [6.5445491  2.94866132 5.47955432 1.98460551]]\n",
      "****************************************************************************************************\n",
      "Iteration:  42\n",
      "Mixing Coeffiients: \n",
      " [0.33333333 0.29919342 0.36747324]\n",
      "Mean Vectors: \n",
      " [[5.006      3.428      1.462      0.246     ]\n",
      " [5.91496977 2.77784366 4.20155362 1.296967  ]\n",
      " [6.5445489  2.94866125 5.47955394 1.98460527]]\n",
      "****************************************************************************************************\n",
      "Iteration:  43\n",
      "Mixing Coeffiients: \n",
      " [0.33333333 0.29919332 0.36747335]\n",
      "Mean Vectors: \n",
      " [[5.006      3.428      1.462      0.246     ]\n",
      " [5.91496969 2.77784366 4.20155345 1.29696694]\n",
      " [6.54454879 2.9486612  5.47955372 1.98460513]]\n",
      "****************************************************************************************************\n",
      "Iteration:  44\n",
      "Mixing Coeffiients: \n",
      " [0.33333333 0.29919326 0.3674734 ]\n",
      "Mean Vectors: \n",
      " [[5.006      3.428      1.462      0.246     ]\n",
      " [5.91496965 2.77784365 4.20155335 1.2969669 ]\n",
      " [6.54454873 2.94866118 5.47955359 1.98460505]]\n",
      "****************************************************************************************************\n",
      "Iteration:  45\n",
      "Mixing Coeffiients: \n",
      " [0.33333333 0.29919323 0.36747344]\n",
      "Mean Vectors: \n",
      " [[5.006      3.428      1.462      0.246     ]\n",
      " [5.91496962 2.77784365 4.2015533  1.29696688]\n",
      " [6.5445487  2.94866117 5.47955353 1.98460501]]\n",
      "****************************************************************************************************\n",
      "Iteration:  46\n",
      "Mixing Coeffiients: \n",
      " [0.33333333 0.29919321 0.36747345]\n",
      "Mean Vectors: \n",
      " [[5.006      3.428      1.462      0.246     ]\n",
      " [5.91496961 2.77784365 4.20155327 1.29696687]\n",
      " [6.54454868 2.94866116 5.47955349 1.98460499]]\n",
      "****************************************************************************************************\n",
      "Iteration:  47\n",
      "Mixing Coeffiients: \n",
      " [0.33333333 0.2991932  0.36747347]\n",
      "Mean Vectors: \n",
      " [[5.006      3.428      1.462      0.246     ]\n",
      " [5.9149696  2.77784365 4.20155325 1.29696686]\n",
      " [6.54454866 2.94866116 5.47955346 1.98460497]]\n",
      "****************************************************************************************************\n",
      "Iteration:  48\n",
      "Mixing Coeffiients: \n",
      " [0.33333333 0.2991932  0.36747347]\n",
      "Mean Vectors: \n",
      " [[5.006      3.428      1.462      0.246     ]\n",
      " [5.91496959 2.77784365 4.20155324 1.29696686]\n",
      " [6.54454866 2.94866115 5.47955345 1.98460496]]\n",
      "****************************************************************************************************\n",
      "Iteration:  49\n",
      "Mixing Coeffiients: \n",
      " [0.33333333 0.29919319 0.36747347]\n",
      "Mean Vectors: \n",
      " [[5.006      3.428      1.462      0.246     ]\n",
      " [5.91496959 2.77784365 4.20155323 1.29696686]\n",
      " [6.54454865 2.94866115 5.47955344 1.98460496]]\n",
      "****************************************************************************************************\n",
      "Iteration:  50\n",
      "Mixing Coeffiients: \n",
      " [0.33333333 0.29919319 0.36747348]\n",
      "Mean Vectors: \n",
      " [[5.006      3.428      1.462      0.246     ]\n",
      " [5.91496959 2.77784365 4.20155323 1.29696685]\n",
      " [6.54454865 2.94866115 5.47955344 1.98460496]]\n",
      "****************************************************************************************************\n"
     ]
    }
   ],
   "source": [
    "for i in range(50):\n",
    "  print(\"Iteration: \",i+1)\n",
    "  #E step\n",
    "  gamma_values = getGammaValues(X,num_of_clusters,mixing_coefficients,mean_vectors,covariance_matrices)\n",
    "  # M step\n",
    "  mixing_coefficients,mean_vectors,covariance_matrices = computeMixCoeffMeanVecAndCov(X,gamma_values,num_of_clusters)\n",
    "  print(\"*\"*100)"
   ]
  },
  {
   "cell_type": "code",
   "execution_count": 66,
   "metadata": {
    "colab": {
     "base_uri": "https://localhost:8080/",
     "height": 70
    },
    "colab_type": "code",
    "id": "-QL3XruPwN0u",
    "outputId": "a94fb78b-d7be-4365-927d-9634733afa8e"
   },
   "outputs": [
    {
     "data": {
      "text/plain": [
       "array([[5.006     , 3.428     , 1.462     , 0.246     ],\n",
       "       [5.91496959, 2.77784365, 4.20155323, 1.29696685],\n",
       "       [6.54454865, 2.94866115, 5.47955344, 1.98460496]])"
      ]
     },
     "execution_count": 66,
     "metadata": {
      "tags": []
     },
     "output_type": "execute_result"
    }
   ],
   "source": [
    "mean_vectors"
   ]
  },
  {
   "cell_type": "markdown",
   "metadata": {
    "colab_type": "text",
    "id": "Qv2Y78SguMKF"
   },
   "source": [
    "### **PREDICTION**"
   ]
  },
  {
   "cell_type": "code",
   "execution_count": 0,
   "metadata": {
    "colab": {},
    "colab_type": "code",
    "id": "Jur9aHcmt9Lv"
   },
   "outputs": [],
   "source": [
    "cluster_labels = np.zeros((X.shape[0], num_of_clusters))\n",
    "        \n",
    "for i in range(num_of_clusters):\n",
    "    cluster_labels [:,i] = mixing_coefficients[i] * mvn.pdf(X, mean_vectors[i], covariance_matrices[i])\n",
    "cluster_labels  = cluster_labels.argmax(1)"
   ]
  },
  {
   "cell_type": "code",
   "execution_count": 65,
   "metadata": {
    "colab": {
     "base_uri": "https://localhost:8080/",
     "height": 35
    },
    "colab_type": "code",
    "id": "zVsJTyWGvjYp",
    "outputId": "613d8f75-f0ea-47d5-ff39-210715d79b1a"
   },
   "outputs": [
    {
     "data": {
      "text/plain": [
       "0.9038742317748124"
      ]
     },
     "execution_count": 65,
     "metadata": {
      "tags": []
     },
     "output_type": "execute_result"
    }
   ],
   "source": [
    "from sklearn.metrics.cluster import adjusted_rand_score\n",
    "adjusted_rand_score(y,cluster_labels)"
   ]
  },
  {
   "cell_type": "markdown",
   "metadata": {
    "colab_type": "text",
    "id": "MajoqNcU4L8W"
   },
   "source": [
    "# **GMM SKLEARN**"
   ]
  },
  {
   "cell_type": "code",
   "execution_count": 0,
   "metadata": {
    "colab": {
     "base_uri": "https://localhost:8080/",
     "height": 88
    },
    "colab_type": "code",
    "id": "OYpglDK-poKf",
    "outputId": "2baea221-2c3f-4662-a007-305467be89b8"
   },
   "outputs": [
    {
     "data": {
      "text/plain": [
       "GaussianMixture(covariance_type='full', init_params='kmeans', max_iter=100,\n",
       "                means_init=None, n_components=3, n_init=1, precisions_init=None,\n",
       "                random_state=None, reg_covar=1e-06, tol=0.001, verbose=0,\n",
       "                verbose_interval=10, warm_start=False, weights_init=None)"
      ]
     },
     "execution_count": 2,
     "metadata": {
      "tags": []
     },
     "output_type": "execute_result"
    }
   ],
   "source": [
    "from sklearn import  mixture\n",
    "gmm = mixture.GaussianMixture(n_components=3, covariance_type='full')\n",
    "gmm.fit(X)"
   ]
  },
  {
   "cell_type": "code",
   "execution_count": 0,
   "metadata": {
    "colab": {
     "base_uri": "https://localhost:8080/",
     "height": 70
    },
    "colab_type": "code",
    "id": "jjlc7Iclp3EY",
    "outputId": "0920368f-5e16-4fa3-9f23-17a2456a1477"
   },
   "outputs": [
    {
     "data": {
      "text/plain": [
       "array([[5.006     , 3.428     , 1.462     , 0.246     ],\n",
       "       [5.91697517, 2.77803998, 4.20523542, 1.29841561],\n",
       "       [6.54632887, 2.94943079, 5.4834877 , 1.98716063]])"
      ]
     },
     "execution_count": 3,
     "metadata": {
      "tags": []
     },
     "output_type": "execute_result"
    }
   ],
   "source": [
    "gmm.means_"
   ]
  },
  {
   "cell_type": "code",
   "execution_count": 0,
   "metadata": {
    "colab": {
     "base_uri": "https://localhost:8080/",
     "height": 35
    },
    "colab_type": "code",
    "id": "xVmIqFWjqO3A",
    "outputId": "98b58b3a-a804-45e0-8a4d-1d5d78a401ae"
   },
   "outputs": [
    {
     "data": {
      "text/plain": [
       "array([0.33333333, 0.30118609, 0.36548058])"
      ]
     },
     "execution_count": 4,
     "metadata": {
      "tags": []
     },
     "output_type": "execute_result"
    }
   ],
   "source": [
    "gmm.weights_"
   ]
  },
  {
   "cell_type": "code",
   "execution_count": 0,
   "metadata": {
    "colab": {},
    "colab_type": "code",
    "id": "5DWeyS8kquLJ"
   },
   "outputs": [],
   "source": [
    "y_pred = gmm.predict(X)"
   ]
  },
  {
   "cell_type": "code",
   "execution_count": 0,
   "metadata": {
    "colab": {
     "base_uri": "https://localhost:8080/",
     "height": 141
    },
    "colab_type": "code",
    "id": "HteTxDZw4C5e",
    "outputId": "1e4f8cf3-90c9-4e40-a67d-d73b7ba0ccab"
   },
   "outputs": [
    {
     "data": {
      "text/plain": [
       "array([0, 0, 0, 0, 0, 0, 0, 0, 0, 0, 0, 0, 0, 0, 0, 0, 0, 0, 0, 0, 0, 0,\n",
       "       0, 0, 0, 0, 0, 0, 0, 0, 0, 0, 0, 0, 0, 0, 0, 0, 0, 0, 0, 0, 0, 0,\n",
       "       0, 0, 0, 0, 0, 0, 1, 1, 1, 1, 1, 1, 1, 1, 1, 1, 1, 1, 1, 1, 1, 1,\n",
       "       1, 1, 2, 1, 2, 1, 2, 1, 1, 1, 1, 2, 1, 1, 1, 1, 1, 2, 1, 1, 1, 1,\n",
       "       1, 1, 1, 1, 1, 1, 1, 1, 1, 1, 1, 1, 2, 2, 2, 2, 2, 2, 2, 2, 2, 2,\n",
       "       2, 2, 2, 2, 2, 2, 2, 2, 2, 2, 2, 2, 2, 2, 2, 2, 2, 2, 2, 2, 2, 2,\n",
       "       2, 2, 2, 2, 2, 2, 2, 2, 2, 2, 2, 2, 2, 2, 2, 2, 2, 2])"
      ]
     },
     "execution_count": 6,
     "metadata": {
      "tags": []
     },
     "output_type": "execute_result"
    }
   ],
   "source": [
    "y_pred"
   ]
  },
  {
   "cell_type": "code",
   "execution_count": 0,
   "metadata": {
    "colab": {
     "base_uri": "https://localhost:8080/",
     "height": 35
    },
    "colab_type": "code",
    "id": "2uuTQXS0sTBl",
    "outputId": "fa84a8f0-4a07-4afa-fff2-c02c01a9e171"
   },
   "outputs": [
    {
     "data": {
      "text/plain": [
       "0.9038742317748124"
      ]
     },
     "execution_count": 7,
     "metadata": {
      "tags": []
     },
     "output_type": "execute_result"
    }
   ],
   "source": [
    "from sklearn.metrics.cluster import adjusted_rand_score\n",
    "adjusted_rand_score(y,y_pred)"
   ]
  },
  {
   "cell_type": "markdown",
   "metadata": {
    "colab_type": "text",
    "id": "tsL99eG-v08r"
   },
   "source": [
    "**By comparing the mean vectors and the adjusted rand score between our implementation and sklearn implementation, we conclude that results obtained are same.**"
   ]
  }
 ],
 "metadata": {
  "colab": {
   "collapsed_sections": [],
   "name": "Assignment_9_201911003_PRML.ipynb",
   "provenance": []
  },
  "kernelspec": {
   "display_name": "Python 3",
   "language": "python",
   "name": "python3"
  },
  "language_info": {
   "codemirror_mode": {
    "name": "ipython",
    "version": 3
   },
   "file_extension": ".py",
   "mimetype": "text/x-python",
   "name": "python",
   "nbconvert_exporter": "python",
   "pygments_lexer": "ipython3",
   "version": "3.7.3"
  }
 },
 "nbformat": 4,
 "nbformat_minor": 1
}
